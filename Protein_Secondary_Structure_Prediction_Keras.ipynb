{
 "cells": [
  {
   "cell_type": "code",
   "execution_count": 3,
   "metadata": {},
   "outputs": [
    {
     "name": "stdout",
     "output_type": "stream",
     "text": [
      "(393732, 7)\n",
      "['EDL' 'KCK' 'KAK' ...\n",
      " 'GQVQLVQSGGGLVQAGGSLRLSCAFSGRTFSMYTMGWFRQAPGKEREFVAANRGRGLSPDIADSVNGRFTISRDNAKNTLYLQMDSLKPEDTAVYYCAADLQYGSSWPQRSSAEYDYWGQGTTVTVSS'\n",
      " 'MSGYTPDEKLRLQQLRELRRRWLKDQELSPREPVLPPRRMWPLERFWDNFLRDGAVWKNMVFKAYRSSLFAVSHVLIPMWFVHYYVKYHMATKPYTIVSSKPRIFPGDTILETGEVIPPMRDFPDQHH'\n",
      " 'MSGYTPDEKLRLQQLRELRRRWLKDQELSPREPVLPPRRMWPLERFWDNFLRDGAVWKNMVFKAYRSSLFAVSHVLIPMWFVHYYVKYHMATKPYTIVSSKPRIFPGDTILETGEVIPPMRDFPDQHH']\n",
      "[list(['EDL', 'DL', 'L']) list(['KCK', 'CK', 'K'])\n",
      " list(['KAK', 'AK', 'K']) ...\n",
      " list(['GQV', 'QVQ', 'VQL', 'QLV', 'LVQ', 'VQS', 'QSG', 'SGG', 'GGG', 'GGL', 'GLV', 'LVQ', 'VQA', 'QAG', 'AGG', 'GGS', 'GSL', 'SLR', 'LRL', 'RLS', 'LSC', 'SCA', 'CAF', 'AFS', 'FSG', 'SGR', 'GRT', 'RTF', 'TFS', 'FSM', 'SMY', 'MYT', 'YTM', 'TMG', 'MGW', 'GWF', 'WFR', 'FRQ', 'RQA', 'QAP', 'APG', 'PGK', 'GKE', 'KER', 'ERE', 'REF', 'EFV', 'FVA', 'VAA', 'AAN', 'ANR', 'NRG', 'RGR', 'GRG', 'RGL', 'GLS', 'LSP', 'SPD', 'PDI', 'DIA', 'IAD', 'ADS', 'DSV', 'SVN', 'VNG', 'NGR', 'GRF', 'RFT', 'FTI', 'TIS', 'ISR', 'SRD', 'RDN', 'DNA', 'NAK', 'AKN', 'KNT', 'NTL', 'TLY', 'LYL', 'YLQ', 'LQM', 'QMD', 'MDS', 'DSL', 'SLK', 'LKP', 'KPE', 'PED', 'EDT', 'DTA', 'TAV', 'AVY', 'VYY', 'YYC', 'YCA', 'CAA', 'AAD', 'ADL', 'DLQ', 'LQY', 'QYG', 'YGS', 'GSS', 'SSW', 'SWP', 'WPQ', 'PQR', 'QRS', 'RSS', 'SSA', 'SAE', 'AEY', 'EYD', 'YDY', 'DYW', 'YWG', 'WGQ', 'GQG', 'QGT', 'GTT', 'TTV', 'TVT', 'VTV', 'TVS', 'VSS', 'SS', 'S'])\n",
      " list(['MSG', 'SGY', 'GYT', 'YTP', 'TPD', 'PDE', 'DEK', 'EKL', 'KLR', 'LRL', 'RLQ', 'LQQ', 'QQL', 'QLR', 'LRE', 'REL', 'ELR', 'LRR', 'RRR', 'RRW', 'RWL', 'WLK', 'LKD', 'KDQ', 'DQE', 'QEL', 'ELS', 'LSP', 'SPR', 'PRE', 'REP', 'EPV', 'PVL', 'VLP', 'LPP', 'PPR', 'PRR', 'RRM', 'RMW', 'MWP', 'WPL', 'PLE', 'LER', 'ERF', 'RFW', 'FWD', 'WDN', 'DNF', 'NFL', 'FLR', 'LRD', 'RDG', 'DGA', 'GAV', 'AVW', 'VWK', 'WKN', 'KNM', 'NMV', 'MVF', 'VFK', 'FKA', 'KAY', 'AYR', 'YRS', 'RSS', 'SSL', 'SLF', 'LFA', 'FAV', 'AVS', 'VSH', 'SHV', 'HVL', 'VLI', 'LIP', 'IPM', 'PMW', 'MWF', 'WFV', 'FVH', 'VHY', 'HYY', 'YYV', 'YVK', 'VKY', 'KYH', 'YHM', 'HMA', 'MAT', 'ATK', 'TKP', 'KPY', 'PYT', 'YTI', 'TIV', 'IVS', 'VSS', 'SSK', 'SKP', 'KPR', 'PRI', 'RIF', 'IFP', 'FPG', 'PGD', 'GDT', 'DTI', 'TIL', 'ILE', 'LET', 'ETG', 'TGE', 'GEV', 'EVI', 'VIP', 'IPP', 'PPM', 'PMR', 'MRD', 'RDF', 'DFP', 'FPD', 'PDQ', 'DQH', 'QHH', 'HH', 'H'])\n",
      " list(['MSG', 'SGY', 'GYT', 'YTP', 'TPD', 'PDE', 'DEK', 'EKL', 'KLR', 'LRL', 'RLQ', 'LQQ', 'QQL', 'QLR', 'LRE', 'REL', 'ELR', 'LRR', 'RRR', 'RRW', 'RWL', 'WLK', 'LKD', 'KDQ', 'DQE', 'QEL', 'ELS', 'LSP', 'SPR', 'PRE', 'REP', 'EPV', 'PVL', 'VLP', 'LPP', 'PPR', 'PRR', 'RRM', 'RMW', 'MWP', 'WPL', 'PLE', 'LER', 'ERF', 'RFW', 'FWD', 'WDN', 'DNF', 'NFL', 'FLR', 'LRD', 'RDG', 'DGA', 'GAV', 'AVW', 'VWK', 'WKN', 'KNM', 'NMV', 'MVF', 'VFK', 'FKA', 'KAY', 'AYR', 'YRS', 'RSS', 'SSL', 'SLF', 'LFA', 'FAV', 'AVS', 'VSH', 'SHV', 'HVL', 'VLI', 'LIP', 'IPM', 'PMW', 'MWF', 'WFV', 'FVH', 'VHY', 'HYY', 'YYV', 'YVK', 'VKY', 'KYH', 'YHM', 'HMA', 'MAT', 'ATK', 'TKP', 'KPY', 'PYT', 'YTI', 'TIV', 'IVS', 'VSS', 'SSK', 'SKP', 'KPR', 'PRI', 'RIF', 'IFP', 'FPG', 'PGD', 'GDT', 'DTI', 'TIL', 'ILE', 'LET', 'ETG', 'TGE', 'GEV', 'EVI', 'VIP', 'IPP', 'PPM', 'PMR', 'MRD', 'RDF', 'DFP', 'FPD', 'PDQ', 'DQH', 'QHH', 'HH', 'H'])]\n",
      "['CEC' 'CEC' 'CEC' ...\n",
      " 'CCCEEEEECCEEEECCCCEEEEEEEECCCHHHEEEEEEEECCCCCCEEEEEECCCCCCCEECHHHCCCEEEEEECCCCEEEEEECCCCHHHCEEEEEEEEECCCCCCCCCCHHHCCEECCCEEEEEEC'\n",
      " 'CCCCCHHHCCCCCHHHHHHHHHCCCCCCCCCCCCCCCCCCCCCCCCCCCCCCCCCCCCCCCCCCCCCCCHHHHHCCHHHHHHHHHHHHCCCCCCCCCCCCCCCCCCCCCECCCCCCCCCCCCCCCCCC'\n",
      " 'CCCCCHHHHHHHHHHHHHHHHHHCCCCCCCCCCCCCCCCCCCCCCCCCCCCCCCCCCCCCCCCCHHHHHHHHHHCCHHHHHHHHHHHHHCCCCCCCCCCCCCCCCCCCCCCCCCCCCCCCCCCCCCCC']\n"
     ]
    },
    {
     "data": {
      "image/png": "[encoded data removed]",
      "text/plain": [
       "<Figure size 432x288 with 1 Axes>"
      ]
     },
     "metadata": {
      "needs_background": "light"
     },
     "output_type": "display_data"
    }
   ],
   "source": [
    "import numpy as np \n",
    "import pandas as pd\n",
    "import matplotlib.pyplot as plt\n",
    "%matplotlib inline\n",
    "\n",
    "import warnings\n",
    "warnings.filterwarnings('ignore')\n",
    "\n",
    "df = pd.read_csv('2018-06-06-ss.cleaned.csv')\n",
    "df.len.hist(bins=100)\n",
    "print(df.shape)\n",
    "\n",
    "def seq2ngrams(seqs, n=3):\n",
    "    return np.array([[seq[i:i+n] for i in range(len(seq))] for seq in seqs])\n",
    "\n",
    "maxlen_seq = 128\n",
    "input_seqs, target_seqs = df[['seq', 'sst3']][(df.len <= maxlen_seq) & (~df.has_nonstd_aa)].values.T\n",
    "input_grams = seq2ngrams(input_seqs)\n",
    "print(input_seqs)\n",
    "print(input_grams)\n",
    "print(target_seqs)"
   ]
  },
  {
   "cell_type": "code",
   "execution_count": 4,
   "metadata": {},
   "outputs": [
    {
     "name": "stderr",
     "output_type": "stream",
     "text": [
      "Using TensorFlow backend.\n"
     ]
    },
    {
     "data": {
      "text/plain": [
       "((88751, 128), (88751, 128, 4))"
      ]
     },
     "execution_count": 4,
     "metadata": {},
     "output_type": "execute_result"
    }
   ],
   "source": [
    "from keras.preprocessing import text, sequence\n",
    "from keras.preprocessing.text import Tokenizer\n",
    "from keras.utils import to_categorical\n",
    "\n",
    "tokenizer_encoder = Tokenizer()\n",
    "tokenizer_encoder.fit_on_texts(input_grams)\n",
    "input_data = tokenizer_encoder.texts_to_sequences(input_grams)\n",
    "input_data = sequence.pad_sequences(input_data, maxlen=maxlen_seq, padding='post')\n",
    "\n",
    "tokenizer_decoder = Tokenizer(char_level=True)\n",
    "tokenizer_decoder.fit_on_texts(target_seqs)\n",
    "target_data = tokenizer_decoder.texts_to_sequences(target_seqs)\n",
    "target_data = sequence.pad_sequences(target_data, maxlen=maxlen_seq, padding='post')\n",
    "target_data = to_categorical(target_data)\n",
    "input_data.shape, target_data.shape"
   ]
  },
  {
   "cell_type": "code",
   "execution_count": 5,
   "metadata": {},
   "outputs": [
    {
     "name": "stdout",
     "output_type": "stream",
     "text": [
      "8421 4\n",
      "WARNING:tensorflow:From /Users/mac/anaconda3/envs/tf/lib/python3.7/site-packages/keras/backend/tensorflow_backend.py:74: The name tf.get_default_graph is deprecated. Please use tf.compat.v1.get_default_graph instead.\n",
      "\n",
      "WARNING:tensorflow:From /Users/mac/anaconda3/envs/tf/lib/python3.7/site-packages/keras/backend/tensorflow_backend.py:517: The name tf.placeholder is deprecated. Please use tf.compat.v1.placeholder instead.\n",
      "\n",
      "WARNING:tensorflow:From /Users/mac/anaconda3/envs/tf/lib/python3.7/site-packages/keras/backend/tensorflow_backend.py:4138: The name tf.random_uniform is deprecated. Please use tf.random.uniform instead.\n",
      "\n",
      "WARNING:tensorflow:From /Users/mac/anaconda3/envs/tf/lib/python3.7/site-packages/keras/backend/tensorflow_backend.py:133: The name tf.placeholder_with_default is deprecated. Please use tf.compat.v1.placeholder_with_default instead.\n",
      "\n",
      "WARNING:tensorflow:From /Users/mac/anaconda3/envs/tf/lib/python3.7/site-packages/keras/backend/tensorflow_backend.py:3445: calling dropout (from tensorflow.python.ops.nn_ops) with keep_prob is deprecated and will be removed in a future version.\n",
      "Instructions for updating:\n",
      "Please use `rate` instead of `keep_prob`. Rate should be set to `rate = 1 - keep_prob`.\n",
      "_________________________________________________________________\n",
      "Layer (type)                 Output Shape              Param #   \n",
      "=================================================================\n",
      "input_1 (InputLayer)         (None, 128)               0         \n",
      "_________________________________________________________________\n",
      "embedding_1 (Embedding)      (None, 128, 128)          1077888   \n",
      "_________________________________________________________________\n",
      "bidirectional_1 (Bidirection (None, 128, 128)          98816     \n",
      "_________________________________________________________________\n",
      "time_distributed_1 (TimeDist (None, 128, 4)            516       \n",
      "=================================================================\n",
      "Total params: 1,177,220\n",
      "Trainable params: 1,177,220\n",
      "Non-trainable params: 0\n",
      "_________________________________________________________________\n"
     ]
    }
   ],
   "source": [
    "from keras.models import Model, Input\n",
    "from keras.layers import LSTM, Embedding, Dense, TimeDistributed, Bidirectional\n",
    "\n",
    "n_words = len(tokenizer_encoder.word_index) + 1\n",
    "n_tags = len(tokenizer_decoder.word_index) + 1\n",
    "print(n_words, n_tags)\n",
    "\n",
    "input = Input(shape=(maxlen_seq,))\n",
    "x = Embedding(input_dim=n_words, output_dim=128, input_length=maxlen_seq)(input)\n",
    "x = Bidirectional(LSTM(units=64, return_sequences=True, recurrent_dropout=0.1))(x)\n",
    "y = TimeDistributed(Dense(n_tags, activation=\"softmax\"))(x)\n",
    "model = Model(input, y)\n",
    "model.summary()"
   ]
  },
  {
   "cell_type": "code",
   "execution_count": 6,
   "metadata": {},
   "outputs": [
    {
     "name": "stdout",
     "output_type": "stream",
     "text": [
      "WARNING:tensorflow:From /Users/mac/anaconda3/envs/tf/lib/python3.7/site-packages/keras/optimizers.py:790: The name tf.train.Optimizer is deprecated. Please use tf.compat.v1.train.Optimizer instead.\n",
      "\n",
      "WARNING:tensorflow:From /Users/mac/anaconda3/envs/tf/lib/python3.7/site-packages/keras/backend/tensorflow_backend.py:3295: The name tf.log is deprecated. Please use tf.math.log instead.\n",
      "\n",
      "WARNING:tensorflow:From /Users/mac/anaconda3/envs/tf/lib/python3.7/site-packages/tensorflow_core/python/ops/array_ops.py:1475: where (from tensorflow.python.ops.array_ops) is deprecated and will be removed in a future version.\n",
      "Instructions for updating:\n",
      "Use tf.where in 2.0, which has the same broadcast rule as np.where\n",
      "WARNING:tensorflow:From /Users/mac/anaconda3/envs/tf/lib/python3.7/site-packages/keras/backend/tensorflow_backend.py:986: The name tf.assign_add is deprecated. Please use tf.compat.v1.assign_add instead.\n",
      "\n",
      "WARNING:tensorflow:From /Users/mac/anaconda3/envs/tf/lib/python3.7/site-packages/keras/backend/tensorflow_backend.py:973: The name tf.assign is deprecated. Please use tf.compat.v1.assign instead.\n",
      "\n",
      "WARNING:tensorflow:From /Users/mac/anaconda3/envs/tf/lib/python3.7/site-packages/keras/backend/tensorflow_backend.py:2741: The name tf.Session is deprecated. Please use tf.compat.v1.Session instead.\n",
      "\n",
      "Train on 53250 samples, validate on 35501 samples\n",
      "Epoch 1/5\n",
      "WARNING:tensorflow:From /Users/mac/anaconda3/envs/tf/lib/python3.7/site-packages/keras/backend/tensorflow_backend.py:174: The name tf.get_default_session is deprecated. Please use tf.compat.v1.get_default_session instead.\n",
      "\n",
      "WARNING:tensorflow:From /Users/mac/anaconda3/envs/tf/lib/python3.7/site-packages/keras/backend/tensorflow_backend.py:181: The name tf.ConfigProto is deprecated. Please use tf.compat.v1.ConfigProto instead.\n",
      "\n",
      "WARNING:tensorflow:From /Users/mac/anaconda3/envs/tf/lib/python3.7/site-packages/keras/backend/tensorflow_backend.py:190: The name tf.global_variables is deprecated. Please use tf.compat.v1.global_variables instead.\n",
      "\n",
      "WARNING:tensorflow:From /Users/mac/anaconda3/envs/tf/lib/python3.7/site-packages/keras/backend/tensorflow_backend.py:199: The name tf.is_variable_initialized is deprecated. Please use tf.compat.v1.is_variable_initialized instead.\n",
      "\n",
      "WARNING:tensorflow:From /Users/mac/anaconda3/envs/tf/lib/python3.7/site-packages/keras/backend/tensorflow_backend.py:206: The name tf.variables_initializer is deprecated. Please use tf.compat.v1.variables_initializer instead.\n",
      "\n",
      "53250/53250 [==============================] - 1569s 29ms/step - loss: 0.4110 - acc: 0.8265 - q3_acc: 0.7249 - val_loss: 0.3029 - val_acc: 0.8801 - val_q3_acc: 0.8099\n",
      "Epoch 2/5\n",
      "53250/53250 [==============================] - 335s 6ms/step - loss: 0.2839 - acc: 0.8878 - q3_acc: 0.8211 - val_loss: 0.2950 - val_acc: 0.8831 - val_q3_acc: 0.8148\n",
      "Epoch 3/5\n",
      "53250/53250 [==============================] - 337s 6ms/step - loss: 0.2501 - acc: 0.9022 - q3_acc: 0.8441 - val_loss: 0.2495 - val_acc: 0.9025 - val_q3_acc: 0.8455\n",
      "Epoch 4/5\n",
      "53250/53250 [==============================] - 343s 6ms/step - loss: 0.2273 - acc: 0.9116 - q3_acc: 0.8590 - val_loss: 0.2481 - val_acc: 0.9031 - val_q3_acc: 0.8464\n",
      "Epoch 5/5\n",
      "53250/53250 [==============================] - 619s 12ms/step - loss: 0.2103 - acc: 0.9183 - q3_acc: 0.8697 - val_loss: 0.2319 - val_acc: 0.9089 - val_q3_acc: 0.8557\n"
     ]
    },
    {
     "data": {
      "text/plain": [
       "<keras.callbacks.History at 0x129bbd890>"
      ]
     },
     "execution_count": 6,
     "metadata": {},
     "output_type": "execute_result"
    }
   ],
   "source": [
    "from sklearn.model_selection import train_test_split\n",
    "from keras.metrics import categorical_accuracy\n",
    "from keras import backend  as K\n",
    "import tensorflow as tf\n",
    "\n",
    "def q3_acc(y_true, y_pred):\n",
    "    y = tf.argmax(y_true, axis=-1)\n",
    "    y_ = tf.argmax(y_pred, axis=-1)\n",
    "    mask = tf.greater(y, 0)\n",
    "    return K.cast(K.equal(tf.boolean_mask(y, mask), tf.boolean_mask(y_, mask)), K.floatx())\n",
    "\n",
    "model.compile(optimizer=\"rmsprop\", loss=\"categorical_crossentropy\", metrics=[\"accuracy\", q3_acc])\n",
    "\n",
    "X_train, X_test, y_train, y_test = train_test_split(input_data, target_data, test_size=.4, random_state=0)\n",
    "seq_train, seq_test, target_train, target_test = train_test_split(input_seqs, target_seqs, test_size=.4, random_state=0)\n",
    "\n",
    "model.fit(X_train, y_train, batch_size=128, epochs=5, validation_data=(X_test, y_test), verbose=1)"
   ]
  },
  {
   "cell_type": "code",
   "execution_count": 7,
   "metadata": {},
   "outputs": [
    {
     "name": "stdout",
     "output_type": "stream",
     "text": [
      "training\n",
      "---\n",
      "Input: MGDKPIWEQIGSSFINHYYQLFDNDRTQLGAIYIDASCLTWEGQQFQGKAAIVEKLSSLPFQKIQHSITAQDHQPTPDSCIISMVVGQLKADEDPIMGFHQEFLLKNINDAWVCTNDMFRLALHNFG\n",
      "Target: CCCCCHHHHHHHHHHHHHHHHHHHCHHHHHHHCCCCCEEEECCEEEECHHHHHHHHHHCCCCCEEEEEEEEEEEECCCCCEEEEEEEEEEECCCCCEEEEEEEEEEECCCCEEEEEEEEEEECCCCC\n",
      "Result: CCCCCHHHHHHHHHHHHHHHHHHCCCCHHHHEEEEEEEEEECCEEEECHHHHHHHHHCCCCCCCEEEEEEEEEEECCCCCEEEEEEEEEEECCCCCEEEEEEEEEEECCCCEEEEEEEEEECCCCCC\n"
     ]
    },
    {
     "data": {
      "image/png": "[encoded data removed]",
      "text/plain": [
       "<Figure size 720x144 with 1 Axes>"
      ]
     },
     "metadata": {
      "needs_background": "light"
     },
     "output_type": "display_data"
    },
    {
     "name": "stdout",
     "output_type": "stream",
     "text": [
      "---\n",
      "Input: SRGTQTE\n",
      "Target: CEEEECC\n",
      "Result: CCCCCCC\n"
     ]
    },
    {
     "data": {
      "image/png": "[encoded data removed]",
      "text/plain": [
       "<Figure size 720x144 with 1 Axes>"
      ]
     },
     "metadata": {
      "needs_background": "light"
     },
     "output_type": "display_data"
    },
    {
     "name": "stdout",
     "output_type": "stream",
     "text": [
      "---\n",
      "Input: MKEEKRSSTGFLVKQRAFLKLYMITMTEQERLYGLKLLKVLQSEFKEIGFKPNHTEVYRSLHELLDDGILKQIKVKKEGAKLQEVVLYQFKDYEAAKLYKKQLKVELDRCKKLIEKALSDNF\n",
      "Target: CCCCCCCCCCCCCCHHHHHHHHHHHHHHCCCEECCCCHHHHHHHHCCCCCCCCHHHHHHHHHHHHHCCCEEEEECCCCCCCCCCCEEEEECCHHHHHHHHHHHHHHHHHHHHHHHHHHHHHC\n",
      "Result: CCCCCCCCCCCCCHHHHHHHHHHHHHHHHHCCCCCHHHHHHHHHHCCCCCCCCHHHHHHHHHHHHCHCCEEEEECCCCCCCCCCEEEEECCCHHHHHHHHHHHHHHHHHHHHHHHHHHCCCC\n"
     ]
    },
    {
     "data": {
      "image/png": "[encoded data removed]",
      "text/plain": [
       "<Figure size 720x144 with 1 Axes>"
      ]
     },
     "metadata": {
      "needs_background": "light"
     },
     "output_type": "display_data"
    },
    {
     "name": "stdout",
     "output_type": "stream",
     "text": [
      "testing\n",
      "---\n",
      "Input: MKRQKRDRLERAHQRGYQAGIAGRSKEMCPYQTLNQRSQWLGGWREAMADRVVMAHHHHHH\n",
      "Target: CCCCCHHHHHHHHHHHHHHHHCCCCCCCCCCCCHHHHHHHHHHHHHHHHHCCCCCCCCCCC\n",
      "Result: CCCCHHHHHHHHHHHHHHHHHHCCCHCCCCCCHHHHHHHHHCCHHHHHHHCCCCCCCCCCC\n"
     ]
    },
    {
     "data": {
      "image/png": "[encoded data removed]",
      "text/plain": [
       "<Figure size 720x144 with 1 Axes>"
      ]
     },
     "metadata": {
      "needs_background": "light"
     },
     "output_type": "display_data"
    },
    {
     "name": "stdout",
     "output_type": "stream",
     "text": [
      "---\n",
      "Input: YCQKWMWTCDEERKCCEGLVCRLWCKRIINM\n",
      "Target: CCCCCCCECCCCCCCCCCCECCCECECCCCC\n",
      "Result: CCCCCCCCCCCCCCEECCCCCEEEEEEEEEC\n"
     ]
    },
    {
     "data": {
      "image/png": "[encoded data removed]",
      "text/plain": [
       "<Figure size 720x144 with 1 Axes>"
      ]
     },
     "metadata": {
      "needs_background": "light"
     },
     "output_type": "display_data"
    },
    {
     "name": "stdout",
     "output_type": "stream",
     "text": [
      "---\n",
      "Input: TEFSEEQKRTLDLLFLFDRRMTEERRRWLSQRLGLNEEQIERWFRRKEQQI\n",
      "Target: CCCCCCHHHHHHHHHHHHHHHHHHHHHHHHHHCCCCHHHHHHHHHCCCCCC\n",
      "Result: CCCCHHHCHHHHHHHHHHHCHHHHHHHHHHHHCCCCHHHHHHHHCCCCCCC\n"
     ]
    },
    {
     "data": {
      "image/png": "[encoded data removed]",
      "text/plain": [
       "<Figure size 720x144 with 1 Axes>"
      ]
     },
     "metadata": {
      "needs_background": "light"
     },
     "output_type": "display_data"
    }
   ],
   "source": [
    "def onehot_to_seq(oh_seq, index):\n",
    "    s = ''\n",
    "    for o in oh_seq:\n",
    "        i = np.argmax(o)\n",
    "        if i != 0:\n",
    "            s += index[i]\n",
    "        else:\n",
    "            break\n",
    "    return s\n",
    "\n",
    "def plot_results(x, y, y_):\n",
    "    print(\"---\")\n",
    "    print(\"Input: \" + str(x))\n",
    "    print(\"Target: \" + str(onehot_to_seq(y, revsere_decoder_index).upper()))\n",
    "    print(\"Result: \" + str(onehot_to_seq(y_, revsere_decoder_index).upper()))\n",
    "    fig = plt.figure(figsize=(10,2))\n",
    "    plt.imshow(y.T, cmap='Blues')\n",
    "    plt.imshow(y_.T, cmap='Reds', alpha=.5)\n",
    "    plt.yticks(range(4), [' '] + [revsere_decoder_index[i+1].upper() for i in range(3)])\n",
    "    plt.show()\n",
    "    \n",
    "revsere_decoder_index = {value:key for key,value in tokenizer_decoder.word_index.items()}\n",
    "revsere_encoder_index = {value:key for key,value in tokenizer_encoder.word_index.items()}\n",
    "\n",
    "N=3\n",
    "y_train_pred = model.predict(X_train[:N])\n",
    "y_test_pred = model.predict(X_test[:N])\n",
    "print('training')\n",
    "for i in range(N):\n",
    "    plot_results(seq_train[i], y_train[i], y_train_pred[i])\n",
    "print('testing')\n",
    "for i in range(N):\n",
    "    plot_results(seq_test[i], y_test[i], y_test_pred[i])"
   ]
  },
  {
   "cell_type": "code",
   "execution_count": null,
   "metadata": {},
   "outputs": [],
   "source": []
  }
 ],
 "metadata": {
  "kernelspec": {
   "display_name": "Python 3",
   "language": "python",
   "name": "python3"
  },
  "language_info": {
   "codemirror_mode": {
    "name": "ipython",
    "version": 3
   },
   "file_extension": ".py",
   "mimetype": "text/x-python",
   "name": "python",
   "nbconvert_exporter": "python",
   "pygments_lexer": "ipython3",
   "version": "3.7.4"
  }
 },
 "nbformat": 4,
 "nbformat_minor": 2
}
